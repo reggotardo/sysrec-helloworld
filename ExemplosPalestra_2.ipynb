{
  "nbformat": 4,
  "nbformat_minor": 0,
  "metadata": {
    "colab": {
      "name": "ExemplosPalestra_2.ipynb",
      "provenance": [],
      "collapsed_sections": []
    },
    "kernelspec": {
      "name": "python3",
      "display_name": "Python 3"
    }
  },
  "cells": [
    {
      "cell_type": "code",
      "metadata": {
        "id": "-UoQB3CqA6mi",
        "colab_type": "code",
        "colab": {}
      },
      "source": [
        "# Dicionario de avalicoes de filmes (pequeno conjunto) \n",
        "avaliacoes= {\n",
        "    'Batman': {'Filme 1': 2, 'Filme 2': 4, 'Filme 3': 5, 'Filme 4': 4, 'Filme 5': 2}, \n",
        "    'Dom Juan': {'Filme 1': 2, 'Filme 2': 4,'Filme 3': 5, 'Filme 4': 4, 'Filme 5': 3, 'Filme 6': 3, 'Filme 7': 5}, \n",
        "    'Madona': {'Filme 1': 2, 'Filme 2': 5, \"Filme 3\": 5, 'Filme 4': 4, 'Filme 5': 2, 'Filme 6': 2, 'Filme 7': 5}, \n",
        "    'Lady Gaga': {'Filme 1': 4, 'Filme 2': 1, 'Filme 3': 1,'Filme 4': 1, 'Filme 5': 5, 'Filme 6': 4, 'Filme 7': 1},\n",
        "    'Reginaldo': {'Filme 1': 2, 'Filme 2': 4, 'Filme 3': 4,'Filme 4': 3, 'Filme 5': 4, 'Filme 6': 5, 'Filme 7': 2}\n",
        "}"
      ],
      "execution_count": 0,
      "outputs": []
    },
    {
      "cell_type": "code",
      "metadata": {
        "id": "rG9AmrDhKl5U",
        "colab_type": "code",
        "colab": {}
      },
      "source": [
        "# Retorna o coeficiente de correlacao de pearson para p1 e p2\n",
        "def sim_pearson(prefs, p1, p2):\n",
        "  # Pega a lista de itens mutuamente classificados\n",
        "  si = {}\n",
        "  for item in prefs[p1]: \n",
        "    if item in prefs[p2]: si[item] = 1\n",
        "\n",
        "  # se nao tiverem avaliacoes em comum retorna 0\n",
        "  if len(si) == 0: return 0\n",
        "\n",
        "  # calcula a soma\n",
        "  n = len(si)\n",
        "  \n",
        "  # soma todas as preferencias\n",
        "  sum1 = sum([prefs[p1][it] for it in si])\n",
        "  sum2 = sum([prefs[p2][it] for it in si])\n",
        "  \n",
        "  # soma os quadrados das prefs\n",
        "  sum1Sq = sum([pow(prefs[p1][it],2) for it in si])\n",
        "  sum2Sq = sum([pow(prefs[p2][it],2) for it in si])\t\n",
        "  \n",
        "  # soma os produtos\n",
        "  pSum = sum([prefs[p1][it]*prefs[p2][it] for it in si])\n",
        "  \n",
        "  # calcula a correlacao\n",
        "  num = pSum - (sum1*sum2/n)\n",
        "  den = sqrt((sum1Sq - pow(sum1, 2)/n) * (sum2Sq - pow(sum2, 2) / n))\n",
        "  if den == 0: return 0\n",
        "\n",
        "  r=num/den\n",
        "\n",
        "  return r"
      ],
      "execution_count": 0,
      "outputs": []
    },
    {
      "cell_type": "code",
      "metadata": {
        "id": "AGyl0UtWKd-e",
        "colab_type": "code",
        "colab": {}
      },
      "source": [
        "from math import sqrt\n",
        "\n",
        "# Retorna a similaridade baseada na distancia entre a pessoa1 e a pessoa2\n",
        "# usa dist Euclidiana\n",
        "\n",
        "def sim_distance(prefs,pessoa1,pessoa2):\n",
        "  \n",
        "  # Pega a lista de itens\n",
        "  si = {}\n",
        "  for item in prefs[pessoa1]: \n",
        "    if item in prefs[pessoa2]: \n",
        "      si[item] = 1\n",
        "\n",
        "  # se as pessoas 1 e 2 nao tem classificacoes em comum entao retorne 0\n",
        "  if len(si) == 0: \n",
        "    return 0\n",
        "\n",
        "  # soma os quadrados de todas as diferencas\n",
        "  sum_of_squares = sum([pow(prefs[pessoa1][item] - prefs[pessoa2][item], 2) for item in \n",
        "                        prefs[pessoa1] if item in prefs[pessoa2]])\n",
        "\n",
        "  return 1 / ( 1 + sum_of_squares)"
      ],
      "execution_count": 0,
      "outputs": []
    },
    {
      "cell_type": "code",
      "metadata": {
        "id": "EW6XfxDwKn4z",
        "colab_type": "code",
        "colab": {}
      },
      "source": [
        "# retorna os melhores resultados para cada pessoa do conjunto de avaliacoes\n",
        "# numero de resultados e funcao de similaridade sao parametros opcionais\n",
        "\n",
        "def topMatches(prefs, person, n = 5, similarity = sim_pearson):\n",
        "  \n",
        "  #pega cada usuario U sem ser o user alvo A e calcula a correlacao dele com A\n",
        "  scores=[(similarity(prefs, person, other),other) \n",
        "                  for other in prefs if other != person]\n",
        "  \n",
        "  #ordena a lista para que as maiores notas aparecam no topo\n",
        "  scores.sort()\n",
        "  scores.reverse()\n",
        "  return scores[0:n]"
      ],
      "execution_count": 0,
      "outputs": []
    },
    {
      "cell_type": "code",
      "metadata": {
        "id": "kzZfTlfwKtEc",
        "colab_type": "code",
        "colab": {}
      },
      "source": [
        "# obtem recomendacoes para uma pessoa usando uma media ponderada\n",
        "# de cada avaliacao dos outros usuarios\n",
        "def getRecommendations(prefs, person, coef_viz = 0.0, similarity = sim_pearson):\n",
        "  totals = {}\n",
        "  simSums = {}\n",
        "  for other in prefs:\n",
        "    # nao me compare comigo mesmo\n",
        "    if other == person: \n",
        "      continue\n",
        "    sim = similarity(prefs, person, other)\n",
        "\n",
        "    # ignorar notas zero ou menores que um coeficiente de vizinhança\n",
        "    if sim<=coef_viz: \n",
        "      continue\n",
        "    for item in prefs[other]:\n",
        "      # apenas notas de filmes que eu ainda nao vi\n",
        "      if item not in prefs[person] or prefs[person][item] == 0:\n",
        "        # Similaridade * nota\n",
        "        totals.setdefault(item, 0)\n",
        "        totals[item] += prefs[other][item] * sim\n",
        "        # Soma de similaridades\n",
        "        simSums.setdefault(item, 0)\n",
        "        simSums[item] += sim\n",
        "\n",
        "  # Cria a lista normalizada\n",
        "  rankings = [(total / simSums[item], item) for item,total in \n",
        "              totals.items()]\n",
        "\n",
        "  # retorna a lista ordenada\n",
        "  rankings.sort()\n",
        "  rankings.reverse()\n",
        "  return rankings"
      ],
      "execution_count": 0,
      "outputs": []
    },
    {
      "cell_type": "code",
      "metadata": {
        "id": "hKA6sM4dTaXP",
        "colab_type": "code",
        "colab": {}
      },
      "source": [
        "def similarity_plot(user1, user2, figsize1=(10, 5)):\n",
        "  import matplotlib.pyplot as plt\n",
        "  users_list = [user1, user2]\n",
        "  plt.figure(figsize=figsize1)\n",
        "\n",
        "  # itera pegando o valor das chaves do dicionário, que no caso são os nomes dos usuários\n",
        "  for user in users_list:\n",
        "      # acessa os valores dos subdicionários a partir da chave recuperada\n",
        "      plt.plot(['Filme ' + str(f + 1) for f in range(len(avaliacoes[user]))], avaliacoes[user].values(), label=user, alpha=0.6)\n",
        "      plt.legend()"
      ],
      "execution_count": 0,
      "outputs": []
    },
    {
      "cell_type": "code",
      "metadata": {
        "id": "i7lmGnBRulMR",
        "colab_type": "code",
        "colab": {}
      },
      "source": [
        "def similarity_scatter(user1, user2, figsize1=(10, 5)):\n",
        "  import matplotlib.pyplot as plt\n",
        "  users_list = [user1, user2]\n",
        "  plt.figure(figsize=figsize1)\n",
        "\n",
        "  # itera pegando o valor das chaves do dicionário, que no caso são os nomes dos usuários\n",
        "  for user in users_list:\n",
        "      # acessa os valores dos subdicionários a partir da chave recuperada\n",
        "      plt.scatter(['Filme ' + str(f + 1) for f in range(len(avaliacoes[user]))], avaliacoes[user].values(), label=user, alpha=0.6)\n",
        "      plt.legend()"
      ],
      "execution_count": 0,
      "outputs": []
    },
    {
      "cell_type": "code",
      "metadata": {
        "id": "sukHywfnadPg",
        "colab_type": "code",
        "colab": {}
      },
      "source": [
        "user1 = 'Batman'\n",
        "user2 = 'Reginaldo'\n",
        "\n",
        "#testando a similaridade de 2 usuarios da base\n",
        "sim_pearson(avaliacoes, user1, user2)\n"
      ],
      "execution_count": 0,
      "outputs": []
    },
    {
      "cell_type": "code",
      "metadata": {
        "id": "XLrYt7__d0f_",
        "colab_type": "code",
        "colab": {
          "base_uri": "https://localhost:8080/",
          "height": 323
        },
        "outputId": "a0c55251-e1c7-4a31-9828-b0af2851dce6"
      },
      "source": [
        "#graficamente a similaridade de user1 e user2\n",
        "similarity_plot(user1, user2)"
      ],
      "execution_count": 65,
      "outputs": [
        {
          "output_type": "display_data",
          "data": {
            "image/png": "[encoded data removed]",
            "text/plain": [
              "<Figure size 720x360 with 1 Axes>"
            ]
          },
          "metadata": {
            "tags": []
          }
        }
      ]
    },
    {
      "cell_type": "code",
      "metadata": {
        "id": "z-Sm9wf2LnGw",
        "colab_type": "code",
        "colab": {}
      },
      "source": [
        "#quais os usuários mais parecidos com Batman?\n",
        "topMatches(avaliacoes, 'Batman')"
      ],
      "execution_count": 0,
      "outputs": []
    },
    {
      "cell_type": "code",
      "metadata": {
        "id": "zAeUMxn8L3qY",
        "colab_type": "code",
        "colab": {
          "base_uri": "https://localhost:8080/",
          "height": 35
        },
        "outputId": "d081a8a5-66e6-4bf8-f91c-8d11de013069"
      },
      "source": [
        "#obter recomendacoes de filmes para o Batman\n",
        "getRecommendations(avaliacoes, 'Batman', 0.0)"
      ],
      "execution_count": 66,
      "outputs": [
        {
          "output_type": "execute_result",
          "data": {
            "text/plain": [
              "[(4.41850647378939, 'Filme 7'), (2.982362329371904, 'Filme 6')]"
            ]
          },
          "metadata": {
            "tags": []
          },
          "execution_count": 66
        }
      ]
    },
    {
      "cell_type": "code",
      "metadata": {
        "id": "-HnGVowAK0HM",
        "colab_type": "code",
        "colab": {}
      },
      "source": [
        "#RECOMENDACAO BASEADA EM ITENS\n",
        " #inverter o dicionario de avaliacoes\n",
        "def transformPrefs(prefs):\n",
        "  result={}\n",
        "  for person in prefs:\n",
        "    for item in prefs[person]:\n",
        "      result.setdefault(item,{})\n",
        "      \n",
        "      # troca pessoas com item\n",
        "      result[item][person]=prefs[person][item]\n",
        "  return result"
      ],
      "execution_count": 0,
      "outputs": []
    },
    {
      "cell_type": "code",
      "metadata": {
        "id": "THMrrC7vK2Bd",
        "colab_type": "code",
        "colab": {}
      },
      "source": [
        "def calculateSimilarItems(prefs,n=10):\n",
        "  # cria um dicionario de itens mostrando com quais outros itens eles sao mais parecidos\n",
        "  result={}\n",
        "  # inverte a matriz de preferencias para que ela seja baseada em itens\n",
        "  itemPrefs=transformPrefs(prefs)\n",
        "  c=0\n",
        "  for item in itemPrefs:\n",
        "    # atualizacoes de estado para grandes conjuntos de dados\n",
        "    c += 1\n",
        "    if c % 100 == 0: \n",
        "      print ('%d / %d' % (c, len(itemPrefs)))\n",
        "    \n",
        "    # encontre os itens mais similares ao atual\n",
        "    scores=topMatches(itemPrefs, item, n=n, similarity=sim_distance)\n",
        "    result[item] = scores\n",
        "  \n",
        "  return result"
      ],
      "execution_count": 0,
      "outputs": []
    },
    {
      "cell_type": "code",
      "metadata": {
        "id": "gQg5PYleK452",
        "colab_type": "code",
        "colab": {}
      },
      "source": [
        "def getRecommendedItems(prefs,itemMatch,user):\n",
        "  userRatings=prefs[user]\n",
        "  scores={}\n",
        "  totalSim={}\n",
        "  # iteracao pelos itens classificados por este usuario\n",
        "  for (item,rating) in userRatings.items( ):\n",
        "\n",
        "    # iteracao por itens similares a este\n",
        "    for (similarity,item2) in itemMatch[item]:\n",
        "\n",
        "      # ignora se esse usuario ja deu nota para esse item antes\n",
        "      if item2 in userRatings: continue\n",
        "      # soma ponderada de nota vezes a similaridade\n",
        "      scores.setdefault(item2,0)\n",
        "      scores[item2]+=similarity*rating\n",
        "      # soma de todas a similaridades\n",
        "      totalSim.setdefault(item2,0)\n",
        "      totalSim[item2]+=similarity\n",
        "\n",
        "  # Divide cada nota total pelo fator de ponderacao total para conseguir uma media\n",
        "  rankings=[(score/totalSim[item],item) for item,score in scores.items( )]\n",
        "\n",
        "  # retorna as notas da maior para a menor\n",
        "  rankings.sort( )\n",
        "  rankings.reverse( )\n",
        "  return rankings"
      ],
      "execution_count": 0,
      "outputs": []
    },
    {
      "cell_type": "code",
      "metadata": {
        "id": "Cb1jdxUsUnPi",
        "colab_type": "code",
        "colab": {}
      },
      "source": [
        ""
      ],
      "execution_count": 0,
      "outputs": []
    }
  ]
}